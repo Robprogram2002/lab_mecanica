{
 "cells": [
  {
   "cell_type": "markdown",
   "id": "e53e931e",
   "metadata": {},
   "source": [
    "# Práctica Tiro Parabolico\n",
    "\n",
    "En este script de python vamos a realizar las gráficas de los datos y a llevar a cabo algunos ajustes lineales y polinomicos."
   ]
  },
  {
   "cell_type": "code",
   "execution_count": 135,
   "id": "9125a5fd",
   "metadata": {},
   "outputs": [],
   "source": [
    "# Importamos las librarias necesarias\n",
    "import numpy as np\n",
    "import pandas as pd\n",
    "import matplotlib.pyplot as plt\n",
    "import seaborn as sns\n",
    "from scipy.stats import pearsonr\n",
    "\n",
    "\n",
    "# configuramos el entorno de trabajo\n",
    "%matplotlib inline\n",
    "sns.set_style('whitegrid');"
   ]
  },
  {
   "cell_type": "code",
   "execution_count": 259,
   "id": "23921d77",
   "metadata": {},
   "outputs": [
    {
     "data": {
      "text/html": [
       "<div>\n",
       "<style scoped>\n",
       "    .dataframe tbody tr th:only-of-type {\n",
       "        vertical-align: middle;\n",
       "    }\n",
       "\n",
       "    .dataframe tbody tr th {\n",
       "        vertical-align: top;\n",
       "    }\n",
       "\n",
       "    .dataframe thead th {\n",
       "        text-align: right;\n",
       "    }\n",
       "</style>\n",
       "<table border=\"1\" class=\"dataframe\">\n",
       "  <thead>\n",
       "    <tr style=\"text-align: right;\">\n",
       "      <th></th>\n",
       "      <th>t</th>\n",
       "      <th>X</th>\n",
       "      <th>Y</th>\n",
       "    </tr>\n",
       "  </thead>\n",
       "  <tbody>\n",
       "    <tr>\n",
       "      <th>0</th>\n",
       "      <td>0,00</td>\n",
       "      <td>0,00</td>\n",
       "      <td>0,00</td>\n",
       "    </tr>\n",
       "    <tr>\n",
       "      <th>1</th>\n",
       "      <td>0,03</td>\n",
       "      <td>0,10</td>\n",
       "      <td>0,05</td>\n",
       "    </tr>\n",
       "    <tr>\n",
       "      <th>2</th>\n",
       "      <td>0,07</td>\n",
       "      <td>0,20</td>\n",
       "      <td>0,12</td>\n",
       "    </tr>\n",
       "    <tr>\n",
       "      <th>3</th>\n",
       "      <td>0,10</td>\n",
       "      <td>0,31</td>\n",
       "      <td>0,23</td>\n",
       "    </tr>\n",
       "    <tr>\n",
       "      <th>4</th>\n",
       "      <td>0,13</td>\n",
       "      <td>0,44</td>\n",
       "      <td>0,35</td>\n",
       "    </tr>\n",
       "    <tr>\n",
       "      <th>5</th>\n",
       "      <td>0,17</td>\n",
       "      <td>0,56</td>\n",
       "      <td>0,44</td>\n",
       "    </tr>\n",
       "    <tr>\n",
       "      <th>6</th>\n",
       "      <td>0,20</td>\n",
       "      <td>0,67</td>\n",
       "      <td>0,53</td>\n",
       "    </tr>\n",
       "    <tr>\n",
       "      <th>7</th>\n",
       "      <td>0,23</td>\n",
       "      <td>0,82</td>\n",
       "      <td>0,62</td>\n",
       "    </tr>\n",
       "    <tr>\n",
       "      <th>8</th>\n",
       "      <td>0,27</td>\n",
       "      <td>0,92</td>\n",
       "      <td>0,69</td>\n",
       "    </tr>\n",
       "    <tr>\n",
       "      <th>9</th>\n",
       "      <td>0,30</td>\n",
       "      <td>1,05</td>\n",
       "      <td>0,74</td>\n",
       "    </tr>\n",
       "    <tr>\n",
       "      <th>10</th>\n",
       "      <td>0,33</td>\n",
       "      <td>1,19</td>\n",
       "      <td>0,79</td>\n",
       "    </tr>\n",
       "    <tr>\n",
       "      <th>11</th>\n",
       "      <td>0,37</td>\n",
       "      <td>1,30</td>\n",
       "      <td>0,83</td>\n",
       "    </tr>\n",
       "    <tr>\n",
       "      <th>12</th>\n",
       "      <td>0,40</td>\n",
       "      <td>1,42</td>\n",
       "      <td>0,86</td>\n",
       "    </tr>\n",
       "    <tr>\n",
       "      <th>13</th>\n",
       "      <td>0,43</td>\n",
       "      <td>1,54</td>\n",
       "      <td>0,86</td>\n",
       "    </tr>\n",
       "    <tr>\n",
       "      <th>14</th>\n",
       "      <td>0,47</td>\n",
       "      <td>1,68</td>\n",
       "      <td>0,85</td>\n",
       "    </tr>\n",
       "    <tr>\n",
       "      <th>15</th>\n",
       "      <td>0,50</td>\n",
       "      <td>1,79</td>\n",
       "      <td>0,85</td>\n",
       "    </tr>\n",
       "    <tr>\n",
       "      <th>16</th>\n",
       "      <td>0,53</td>\n",
       "      <td>1,92</td>\n",
       "      <td>0,81</td>\n",
       "    </tr>\n",
       "    <tr>\n",
       "      <th>17</th>\n",
       "      <td>0,57</td>\n",
       "      <td>2,03</td>\n",
       "      <td>0,78</td>\n",
       "    </tr>\n",
       "    <tr>\n",
       "      <th>18</th>\n",
       "      <td>0,60</td>\n",
       "      <td>2,14</td>\n",
       "      <td>0,74</td>\n",
       "    </tr>\n",
       "    <tr>\n",
       "      <th>19</th>\n",
       "      <td>0,63</td>\n",
       "      <td>2,26</td>\n",
       "      <td>0,70</td>\n",
       "    </tr>\n",
       "    <tr>\n",
       "      <th>20</th>\n",
       "      <td>0,67</td>\n",
       "      <td>2,38</td>\n",
       "      <td>0,62</td>\n",
       "    </tr>\n",
       "    <tr>\n",
       "      <th>21</th>\n",
       "      <td>0,70</td>\n",
       "      <td>2,50</td>\n",
       "      <td>0,56</td>\n",
       "    </tr>\n",
       "    <tr>\n",
       "      <th>22</th>\n",
       "      <td>0,73</td>\n",
       "      <td>2,64</td>\n",
       "      <td>0,47</td>\n",
       "    </tr>\n",
       "    <tr>\n",
       "      <th>23</th>\n",
       "      <td>0,77</td>\n",
       "      <td>2,74</td>\n",
       "      <td>0,37</td>\n",
       "    </tr>\n",
       "    <tr>\n",
       "      <th>24</th>\n",
       "      <td>0,80</td>\n",
       "      <td>2,88</td>\n",
       "      <td>0,26</td>\n",
       "    </tr>\n",
       "    <tr>\n",
       "      <th>25</th>\n",
       "      <td>0,83</td>\n",
       "      <td>2,98</td>\n",
       "      <td>0,15</td>\n",
       "    </tr>\n",
       "    <tr>\n",
       "      <th>26</th>\n",
       "      <td>0,87</td>\n",
       "      <td>3,09</td>\n",
       "      <td>0,02</td>\n",
       "    </tr>\n",
       "  </tbody>\n",
       "</table>\n",
       "</div>"
      ],
      "text/plain": [
       "       t     X     Y\n",
       "0   0,00  0,00  0,00\n",
       "1   0,03  0,10  0,05\n",
       "2   0,07  0,20  0,12\n",
       "3   0,10  0,31  0,23\n",
       "4   0,13  0,44  0,35\n",
       "5   0,17  0,56  0,44\n",
       "6   0,20  0,67  0,53\n",
       "7   0,23  0,82  0,62\n",
       "8   0,27  0,92  0,69\n",
       "9   0,30  1,05  0,74\n",
       "10  0,33  1,19  0,79\n",
       "11  0,37  1,30  0,83\n",
       "12  0,40  1,42  0,86\n",
       "13  0,43  1,54  0,86\n",
       "14  0,47  1,68  0,85\n",
       "15  0,50  1,79  0,85\n",
       "16  0,53  1,92  0,81\n",
       "17  0,57  2,03  0,78\n",
       "18  0,60  2,14  0,74\n",
       "19  0,63  2,26  0,70\n",
       "20  0,67  2,38  0,62\n",
       "21  0,70  2,50  0,56\n",
       "22  0,73  2,64  0,47\n",
       "23  0,77  2,74  0,37\n",
       "24  0,80  2,88  0,26\n",
       "25  0,83  2,98  0,15\n",
       "26  0,87  3,09  0,02"
      ]
     },
     "execution_count": 259,
     "metadata": {},
     "output_type": "execute_result"
    }
   ],
   "source": [
    "# leemos los datos y los almacenamos en una variable\n",
    "df = pd.read_csv(\"./tiro_parabolico2.csv\", names=[\"t\",\"X\",\"Y\"])\n",
    "df"
   ]
  },
  {
   "cell_type": "code",
   "execution_count": 85,
   "id": "43a45f5a",
   "metadata": {},
   "outputs": [],
   "source": [
    "# creamos una función para convertir el tipo de datos de las columnas a numeros flotantes\n",
    "def convert_float(serie):\n",
    "    new_serie = serie.apply(lambda x: x.replace(',','.'))\n",
    "    return new_serie.astype(float)"
   ]
  },
  {
   "cell_type": "code",
   "execution_count": 86,
   "id": "932a9173",
   "metadata": {},
   "outputs": [],
   "source": [
    "# usamos nuestra función en cada columna\n",
    "datos_x = convert_float(df['X'])\n",
    "datos_y = convert_float(df['Y'])\n",
    "datos_t = convert_float(df['t'])"
   ]
  },
  {
   "cell_type": "markdown",
   "id": "caa3da75",
   "metadata": {},
   "source": [
    "### Graficas de posición en función del tiempo\n",
    "\n",
    "Para comenzar, vamos a realizar las gráficas de las componentes de la posición del cuerpo por separado en función del tiempo. Y vamos a realizar los ajustes lineales o polinomicos correspondientes a cada grafica\n",
    "\n",
    "\n",
    "##### Componente horizontal"
   ]
  },
  {
   "cell_type": "code",
   "execution_count": 213,
   "id": "6c02a16d",
   "metadata": {},
   "outputs": [],
   "source": [
    "# creamos una función para obtener los valores de la pendiente y la intersección\n",
    "# de la recta del ajuste lineal (proceso manual)\n",
    "def get_lineal_fit(x,y):\n",
    "    product = x*y\n",
    "    N = len(x)\n",
    "    m=(N*np.sum(product)-np.sum(x*np.sum(y)))/(N*np.sum(x**2)-np.sum(x)**2)\n",
    "    b=(np.sum(y)*np.sum(x**2)-np.sum(x)*np.sum(product))/(N*np.sum(x**2)-np.sum(x)**2)\n",
    "    return (m,b)"
   ]
  },
  {
   "cell_type": "code",
   "execution_count": 216,
   "id": "2b627725",
   "metadata": {},
   "outputs": [
    {
     "data": {
      "text/plain": [
       "(3.62183075403358, -0.03057110452566237)"
      ]
     },
     "execution_count": 216,
     "metadata": {},
     "output_type": "execute_result"
    }
   ],
   "source": [
    "# almacenamos los coeficientes de la recta en una variable\n",
    "coeff_tx = get_lineal_fit(datos_t, datos_x);\n",
    "coeff_tx"
   ]
  },
  {
   "cell_type": "code",
   "execution_count": 217,
   "id": "098ce550",
   "metadata": {},
   "outputs": [
    {
     "data": {
      "text/plain": [
       "array([ 3.62183075, -0.0305711 ])"
      ]
     },
     "execution_count": 217,
     "metadata": {},
     "output_type": "execute_result"
    }
   ],
   "source": [
    "# Creamos los mismos coeficientes de la recta de ajuste lineal pero aahora usando una función\n",
    "# de la librería numpy\n",
    "poly_tx=np.polyfit(datos_t, datos_x, 1)\n",
    "poly_tx"
   ]
  },
  {
   "cell_type": "code",
   "execution_count": 218,
   "id": "31616228",
   "metadata": {},
   "outputs": [],
   "source": [
    "# guardamos los valores del ajuste lineal\n",
    "poly_ajus_tx = poli[0]*datos_t + poli[1]\n",
    "manual_ajus_tx = m*datos_t + b"
   ]
  },
  {
   "cell_type": "code",
   "execution_count": 220,
   "id": "e40f7200",
   "metadata": {},
   "outputs": [],
   "source": [
    "# calculamos el coeficiente de pearson\n",
    "R_tx = pearsonr(datos_t,datos_x)[0]"
   ]
  },
  {
   "cell_type": "code",
   "execution_count": 236,
   "id": "85252126",
   "metadata": {
    "scrolled": true
   },
   "outputs": [
    {
     "data": {
      "image/png": "[encoded data removed]",
      "text/plain": [
       "<Figure size 432x288 with 1 Axes>"
      ]
     },
     "metadata": {
      "needs_background": "light"
     },
     "output_type": "display_data"
    }
   ],
   "source": [
    "# Graficamos nuestros datos originales\n",
    "plt.plot(datos_t,datos_x, 'b.', label='original')\n",
    "# graficamos el ajuste hecho por medio de la funcion de numpy\n",
    "plt.plot(datos_t, poly_ajus_tx, 'r-', label='poly')\n",
    "# graficamos el ajuste hecho manual\n",
    "plt.plot(datos_t,manual_ajus_tx, 'g*', label='manual')\n",
    "\n",
    "# Añadimos Texto al gráfico\n",
    "plt.legend()\n",
    "plt.xlabel('tiempo [seg]')\n",
    "plt.ylabel('posición x [mtr]')\n",
    "plt.text(0.25,.3,'x = {}t - {}'.format(round(m,3), np.abs(round(b,3))))\n",
    "plt.text(0.25,.1,'R = {}'.format(round(R,4)))\n",
    "plt.title('Posición vs Tiempo');"
   ]
  },
  {
   "cell_type": "markdown",
   "id": "cb254674",
   "metadata": {},
   "source": [
    "##### Componente Vertical"
   ]
  },
  {
   "cell_type": "code",
   "execution_count": 242,
   "id": "ad7647f7",
   "metadata": {},
   "outputs": [
    {
     "data": {
      "text/plain": [
       "array([-4.66284345,  4.18852402, -0.09549931])"
      ]
     },
     "execution_count": 242,
     "metadata": {},
     "output_type": "execute_result"
    }
   ],
   "source": [
    "# Primero obtenemos los coeficientes del ajuste polinomial\n",
    "# En este caso usamos la función polyfit de numpy y le decimos que el grado del ajuste es 2\n",
    "poli_ty = np.polyfit(datos_t, datos_y, 2)\n",
    "poli_ty"
   ]
  },
  {
   "cell_type": "code",
   "execution_count": 244,
   "id": "42709d0a",
   "metadata": {},
   "outputs": [],
   "source": [
    "# Guardamos los valores del ajuste polinomial \n",
    "poli_ajus_ty = poli_ty[0]*datos_t**2 + poli_ty[1]*datos_t + poli_ty[2]   # y = ax^2 + bx + c"
   ]
  },
  {
   "cell_type": "code",
   "execution_count": 247,
   "id": "3d3c50ff",
   "metadata": {},
   "outputs": [
    {
     "data": {
      "image/png": "[encoded data removed]",
      "text/plain": [
       "<Figure size 432x288 with 1 Axes>"
      ]
     },
     "metadata": {
      "needs_background": "light"
     },
     "output_type": "display_data"
    }
   ],
   "source": [
    "# Graficamos los datos originales \n",
    "plt.scatter(x= datos_t,y = datos_y, label = 'original')\n",
    "# y graficamos el ajuste polinomial\n",
    "plt.plot(datos_t, poli_ajus_ty, 'r-', label = 'ajuste')\n",
    "plt.legend()\n",
    "plt.xlabel('Tiempo [seg]')\n",
    "plt.ylabel('Posición y [mtr]')\n",
    "plt.text(.3,.3,'y = {}t^2 + {}t + {}'.format(round(poli_ty[0], 2), round(poli_ty[1],2), round(poli_ty[2],2)))\n",
    "plt.title('Tiempo vs Posición Y');"
   ]
  },
  {
   "cell_type": "markdown",
   "id": "a4e36146",
   "metadata": {},
   "source": [
    "**Analisis por partes**\n",
    "\n",
    "\n",
    "A continuación, vamos a realizar un analisis separado de las dos fases de movimiento del cuerpo. Para ello vamos a partir nuestros datos de posición y tiempo en 2 partes, tomando los valores de la posición 0 a 12 en un grupo y los de la posición 13 a 26 en otro grupo."
   ]
  },
  {
   "cell_type": "code",
   "execution_count": 271,
   "id": "dc4f226e",
   "metadata": {},
   "outputs": [
    {
     "data": {
      "text/plain": [
       "0     0.00\n",
       "1     0.05\n",
       "2     0.12\n",
       "3     0.23\n",
       "4     0.35\n",
       "5     0.44\n",
       "6     0.53\n",
       "7     0.62\n",
       "8     0.69\n",
       "9     0.74\n",
       "10    0.79\n",
       "11    0.83\n",
       "12    0.86\n",
       "13    0.86\n",
       "Name: Y, dtype: float64"
      ]
     },
     "execution_count": 271,
     "metadata": {},
     "output_type": "execute_result"
    }
   ],
   "source": [
    "y_part1 = datos_y[:14]\n",
    "t_part1 = datos_t[:14]\n",
    "y_part1"
   ]
  },
  {
   "cell_type": "code",
   "execution_count": 272,
   "id": "8d157da3",
   "metadata": {},
   "outputs": [
    {
     "data": {
      "text/plain": [
       "14    0.85\n",
       "15    0.85\n",
       "16    0.81\n",
       "17    0.78\n",
       "18    0.74\n",
       "19    0.70\n",
       "20    0.62\n",
       "21    0.56\n",
       "22    0.47\n",
       "23    0.37\n",
       "24    0.26\n",
       "25    0.15\n",
       "26    0.02\n",
       "Name: Y, dtype: float64"
      ]
     },
     "execution_count": 272,
     "metadata": {},
     "output_type": "execute_result"
    }
   ],
   "source": [
    "y_part2 = datos_y[14:]\n",
    "t_part2 = datos_t[14:]\n",
    "y_part2"
   ]
  },
  {
   "cell_type": "code",
   "execution_count": 273,
   "id": "611bff3e",
   "metadata": {},
   "outputs": [
    {
     "data": {
      "image/png": "[encoded data removed]",
      "text/plain": [
       "<Figure size 432x288 with 1 Axes>"
      ]
     },
     "metadata": {
      "needs_background": "light"
     },
     "output_type": "display_data"
    }
   ],
   "source": [
    "# Realicemos la gráfica de la primera mitad \n",
    "plt.scatter(x = t_part1, y = y_part1);"
   ]
  },
  {
   "cell_type": "code",
   "execution_count": 275,
   "id": "2bc62ece",
   "metadata": {},
   "outputs": [
    {
     "data": {
      "image/png": "[encoded data removed]",
      "text/plain": [
       "<Figure size 432x288 with 1 Axes>"
      ]
     },
     "metadata": {
      "needs_background": "light"
     },
     "output_type": "display_data"
    }
   ],
   "source": [
    "# Ahora realicemos la gráfica de la 2da parte \n",
    "plt.scatter(x = t_part2, y = y_part2);"
   ]
  },
  {
   "cell_type": "code",
   "execution_count": 276,
   "id": "89f21198",
   "metadata": {},
   "outputs": [],
   "source": [
    "# continuemos con el cambio de variable en el eje horizontal a t^2\n",
    "t_part1_cuadrado = t_part1 ** 2\n",
    "t_part2_cuadrado = t_part2 ** 2"
   ]
  },
  {
   "cell_type": "code",
   "execution_count": 279,
   "id": "4cafba9b",
   "metadata": {},
   "outputs": [
    {
     "data": {
      "image/png": "[encoded data removed]",
      "text/plain": [
       "<Figure size 432x288 with 1 Axes>"
      ]
     },
     "metadata": {
      "needs_background": "light"
     },
     "output_type": "display_data"
    }
   ],
   "source": [
    "# Graficamos la primera parte con el cambio de variable\n",
    "plt.scatter(x = t_part1_cuadrado, y = y_part1);"
   ]
  },
  {
   "cell_type": "code",
   "execution_count": 278,
   "id": "083520c4",
   "metadata": {},
   "outputs": [
    {
     "data": {
      "image/png": "[encoded data removed]",
      "text/plain": [
       "<Figure size 432x288 with 1 Axes>"
      ]
     },
     "metadata": {
      "needs_background": "light"
     },
     "output_type": "display_data"
    }
   ],
   "source": [
    "# Graficamos la segunda parte con el cambio de variable\n",
    "plt.scatter(x = t_part2_cuadrado, y = y_part2);"
   ]
  },
  {
   "cell_type": "markdown",
   "id": "4cdd3746",
   "metadata": {},
   "source": [
    "**Análisis de la trayectoria del cuerpo**\n",
    "\n",
    "Ahora realizaremos la gráfica de x vs y para poder observar la trayectoria parabolica de este tipo de movimiento."
   ]
  },
  {
   "cell_type": "code",
   "execution_count": 237,
   "id": "0b226b93",
   "metadata": {},
   "outputs": [
    {
     "data": {
      "text/plain": [
       "array([-0.36213105,  1.15433622, -0.06882723])"
      ]
     },
     "execution_count": 237,
     "metadata": {},
     "output_type": "execute_result"
    }
   ],
   "source": [
    "poli_xy = np.polyfit(datos_x, datos_y, 2)\n",
    "poli_xy"
   ]
  },
  {
   "cell_type": "code",
   "execution_count": 194,
   "id": "5212e64f",
   "metadata": {},
   "outputs": [],
   "source": [
    "# Guardamos los valores del ajuste polinomial \n",
    "poli_ajus_xy = poli_xy[0]*datos_x**2 + poli_xy[1]*datos_x + poli_xy[2]   # y = ax^2 + bx + c"
   ]
  },
  {
   "cell_type": "code",
   "execution_count": 240,
   "id": "54121b40",
   "metadata": {},
   "outputs": [
    {
     "data": {
      "image/png": "[encoded data removed]",
      "text/plain": [
       "<Figure size 432x288 with 1 Axes>"
      ]
     },
     "metadata": {
      "needs_background": "light"
     },
     "output_type": "display_data"
    }
   ],
   "source": [
    "# Graficamos los datos originales \n",
    "plt.scatter(x= datos_x,y = datos_y, label = 'original')\n",
    "# y graficamos el ajuste polinomial\n",
    "plt.plot(datos_x, poli_ajus_xy, 'r-', label = 'ajuste')\n",
    "plt.legend()\n",
    "plt.xlabel('Posicion x [mtr]')\n",
    "plt.ylabel('posición y [mtr]')\n",
    "plt.text(1,.3,'y = {}x^2 + {}x + {}'.format(round(poli_xy[0], 2), round(poli_xy[1],2), round(poli_xy[2],2)))\n",
    "plt.title('Posición X vs Posición Y (Trayectoria)');"
   ]
  },
  {
   "cell_type": "code",
   "execution_count": null,
   "id": "4c7f33fb",
   "metadata": {},
   "outputs": [],
   "source": []
  }
 ],
 "metadata": {
  "kernelspec": {
   "display_name": "Python 3",
   "language": "python",
   "name": "python3"
  },
  "language_info": {
   "codemirror_mode": {
    "name": "ipython",
    "version": 3
   },
   "file_extension": ".py",
   "mimetype": "text/x-python",
   "name": "python",
   "nbconvert_exporter": "python",
   "pygments_lexer": "ipython3",
   "version": "3.8.8"
  }
 },
 "nbformat": 4,
 "nbformat_minor": 5
}
